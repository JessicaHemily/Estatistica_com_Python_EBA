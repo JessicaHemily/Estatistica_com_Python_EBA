{
 "cells": [
  {
   "cell_type": "code",
   "execution_count": 1,
   "id": "a239beee",
   "metadata": {},
   "outputs": [],
   "source": [
    "import numpy as np"
   ]
  },
  {
   "cell_type": "code",
   "execution_count": 2,
   "id": "c6155d73",
   "metadata": {},
   "outputs": [
    {
     "data": {
      "text/plain": [
       "array([[1, 2, 3],\n",
       "       [4, 5, 6],\n",
       "       [7, 8, 9]])"
      ]
     },
     "execution_count": 2,
     "metadata": {},
     "output_type": "execute_result"
    }
   ],
   "source": [
    "matriz = np.array([[1,2,3],[4,5,6],[7,8,9]])\n",
    "matriz"
   ]
  },
  {
   "cell_type": "markdown",
   "id": "ab0d58e8",
   "metadata": {},
   "source": [
    "Extrair a diagonal principal:"
   ]
  },
  {
   "cell_type": "code",
   "execution_count": 3,
   "id": "36f87a0c",
   "metadata": {},
   "outputs": [
    {
     "data": {
      "text/plain": [
       "array([1, 5, 9])"
      ]
     },
     "execution_count": 3,
     "metadata": {},
     "output_type": "execute_result"
    }
   ],
   "source": [
    "matriz.diagonal()"
   ]
  },
  {
   "cell_type": "markdown",
   "id": "7cd84f87",
   "metadata": {},
   "source": [
    "Extrair a diagonal acima da principal:"
   ]
  },
  {
   "cell_type": "code",
   "execution_count": 4,
   "id": "d1a9143b",
   "metadata": {},
   "outputs": [
    {
     "data": {
      "text/plain": [
       "array([2, 6])"
      ]
     },
     "execution_count": 4,
     "metadata": {},
     "output_type": "execute_result"
    }
   ],
   "source": [
    "matriz.diagonal(1)"
   ]
  },
  {
   "cell_type": "markdown",
   "id": "0f7afe73",
   "metadata": {},
   "source": [
    "Extrair a diagonal abaixo da principal:"
   ]
  },
  {
   "cell_type": "code",
   "execution_count": 5,
   "id": "8d2038b1",
   "metadata": {},
   "outputs": [
    {
     "data": {
      "text/plain": [
       "array([4, 8])"
      ]
     },
     "execution_count": 5,
     "metadata": {},
     "output_type": "execute_result"
    }
   ],
   "source": [
    "matriz.diagonal(-1)"
   ]
  },
  {
   "cell_type": "code",
   "execution_count": 6,
   "id": "4950f099",
   "metadata": {},
   "outputs": [
    {
     "data": {
      "text/plain": [
       "array([3])"
      ]
     },
     "execution_count": 6,
     "metadata": {},
     "output_type": "execute_result"
    }
   ],
   "source": [
    "matriz.diagonal(2)"
   ]
  },
  {
   "cell_type": "code",
   "execution_count": 7,
   "id": "a11f0e19",
   "metadata": {},
   "outputs": [
    {
     "data": {
      "text/plain": [
       "array([7])"
      ]
     },
     "execution_count": 7,
     "metadata": {},
     "output_type": "execute_result"
    }
   ],
   "source": [
    "matriz.diagonal(-2)"
   ]
  },
  {
   "cell_type": "markdown",
   "id": "22495b88",
   "metadata": {},
   "source": [
    "CÁLCULO DA MATRIZ INVERSA:"
   ]
  },
  {
   "cell_type": "code",
   "execution_count": 8,
   "id": "004ccee8",
   "metadata": {},
   "outputs": [
    {
     "data": {
      "text/plain": [
       "array([[ 3.15251974e+15, -6.30503948e+15,  3.15251974e+15],\n",
       "       [-6.30503948e+15,  1.26100790e+16, -6.30503948e+15],\n",
       "       [ 3.15251974e+15, -6.30503948e+15,  3.15251974e+15]])"
      ]
     },
     "execution_count": 8,
     "metadata": {},
     "output_type": "execute_result"
    }
   ],
   "source": [
    "np.linalgS.inv(matriz)"
   ]
  },
  {
   "cell_type": "markdown",
   "id": "ab249c44",
   "metadata": {},
   "source": [
    "**NÃO CALCULA A MATRIZ INVERSA:**"
   ]
  },
  {
   "cell_type": "code",
   "execution_count": 9,
   "id": "b18c0d1e",
   "metadata": {},
   "outputs": [
    {
     "data": {
      "text/plain": [
       "array([[ -2,  -3,  -4],\n",
       "       [ -5,  -6,  -7],\n",
       "       [ -8,  -9, -10]])"
      ]
     },
     "execution_count": 9,
     "metadata": {},
     "output_type": "execute_result"
    }
   ],
   "source": [
    "np.invert(matriz)"
   ]
  },
  {
   "cell_type": "markdown",
   "id": "dbe2d902",
   "metadata": {},
   "source": [
    "NUMPY 4"
   ]
  },
  {
   "cell_type": "code",
   "execution_count": 10,
   "id": "c4f94d51",
   "metadata": {},
   "outputs": [
    {
     "name": "stdout",
     "output_type": "stream",
     "text": [
      "[1 2 3 4 5 6]\n"
     ]
    }
   ],
   "source": [
    "vetor= np.array([1,2,3,4,5,6])\n",
    "print(vetor)\n"
   ]
  },
  {
   "cell_type": "code",
   "execution_count": 14,
   "id": "db346a43",
   "metadata": {},
   "outputs": [
    {
     "name": "stdout",
     "output_type": "stream",
     "text": [
      "(array([3, 4, 5], dtype=int64),)\n"
     ]
    }
   ],
   "source": [
    "print(np.where(vetor>3))"
   ]
  },
  {
   "cell_type": "code",
   "execution_count": null,
   "id": "0f402d44",
   "metadata": {},
   "outputs": [],
   "source": []
  }
 ],
 "metadata": {
  "kernelspec": {
   "display_name": "Python 3 (ipykernel)",
   "language": "python",
   "name": "python3"
  },
  "language_info": {
   "codemirror_mode": {
    "name": "ipython",
    "version": 3
   },
   "file_extension": ".py",
   "mimetype": "text/x-python",
   "name": "python",
   "nbconvert_exporter": "python",
   "pygments_lexer": "ipython3",
   "version": "3.10.9"
  }
 },
 "nbformat": 4,
 "nbformat_minor": 5
}
