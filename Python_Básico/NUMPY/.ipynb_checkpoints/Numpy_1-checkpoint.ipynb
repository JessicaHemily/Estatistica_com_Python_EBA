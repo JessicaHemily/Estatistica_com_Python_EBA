{
 "cells": [
  {
   "cell_type": "code",
   "execution_count": 1,
   "id": "abfac3d3",
   "metadata": {},
   "outputs": [],
   "source": [
    "import numpy as np"
   ]
  },
  {
   "cell_type": "markdown",
   "id": "91d4794f",
   "metadata": {},
   "source": [
    "Criando um vetor"
   ]
  },
  {
   "cell_type": "markdown",
   "id": "beb03750",
   "metadata": {},
   "source": [
    "Vetor linha:"
   ]
  },
  {
   "cell_type": "code",
   "execution_count": 2,
   "id": "5d613d6c",
   "metadata": {},
   "outputs": [
    {
     "data": {
      "text/plain": [
       "array([1, 2, 3, 4, 5])"
      ]
     },
     "execution_count": 2,
     "metadata": {},
     "output_type": "execute_result"
    }
   ],
   "source": [
    "vetor_linha = np.array([1,2,3,4,5])\n",
    "vetor_linha"
   ]
  },
  {
   "cell_type": "code",
   "execution_count": 3,
   "id": "e2db5c17",
   "metadata": {},
   "outputs": [
    {
     "data": {
      "text/plain": [
       "array([1, 2, 4, 8])"
      ]
     },
     "execution_count": 3,
     "metadata": {},
     "output_type": "execute_result"
    }
   ],
   "source": [
    "lista = [1,2,4,8]\n",
    "vetor2 = np.array(lista)\n",
    "vetor2"
   ]
  },
  {
   "cell_type": "markdown",
   "id": "2fa34398",
   "metadata": {},
   "source": [
    "Vetor coluna:"
   ]
  },
  {
   "cell_type": "code",
   "execution_count": null,
   "id": "d80c3d09",
   "metadata": {},
   "outputs": [],
   "source": [
    "vetor_coluna = np.array([[1],[2],[3],[4]])\n",
    "print(vetor_coluna)"
   ]
  },
  {
   "cell_type": "markdown",
   "id": "7d21636a",
   "metadata": {},
   "source": [
    "Matriz:"
   ]
  },
  {
   "cell_type": "code",
   "execution_count": 9,
   "id": "11701658",
   "metadata": {},
   "outputs": [
    {
     "name": "stdout",
     "output_type": "stream",
     "text": [
      "[[1 2 3]\n",
      " [4 5 6]\n",
      " [7 8 9]]\n"
     ]
    }
   ],
   "source": [
    "matriz = np.array([[1,2,3],[4,5,6],[7,8,9]])\n",
    "print(matriz)"
   ]
  },
  {
   "cell_type": "markdown",
   "id": "5ba96b38",
   "metadata": {},
   "source": [
    "Criar um vetor considerando o intervalo desejado:"
   ]
  },
  {
   "cell_type": "code",
   "execution_count": 17,
   "id": "5bd50e9d",
   "metadata": {},
   "outputs": [
    {
     "data": {
      "text/plain": [
       "array([10., 20., 30., 40., 50.])"
      ]
     },
     "execution_count": 17,
     "metadata": {},
     "output_type": "execute_result"
    }
   ],
   "source": [
    "np.linspace(10,50,num=5)"
   ]
  },
  {
   "cell_type": "markdown",
   "id": "b2c811b2",
   "metadata": {},
   "source": [
    "Retornar um array aleatório:"
   ]
  },
  {
   "cell_type": "code",
   "execution_count": 16,
   "id": "080f9f3b",
   "metadata": {},
   "outputs": [
    {
     "data": {
      "text/plain": [
       "array([10,  1, 13, 41, 34])"
      ]
     },
     "execution_count": 16,
     "metadata": {},
     "output_type": "execute_result"
    }
   ],
   "source": [
    "np.random.randint(0,50,5)"
   ]
  },
  {
   "cell_type": "markdown",
   "id": "b430799f",
   "metadata": {},
   "source": [
    "Número de linhas e colunas:"
   ]
  },
  {
   "cell_type": "code",
   "execution_count": 18,
   "id": "3fd10e55",
   "metadata": {},
   "outputs": [
    {
     "data": {
      "text/plain": [
       "(3, 3)"
      ]
     },
     "execution_count": 18,
     "metadata": {},
     "output_type": "execute_result"
    }
   ],
   "source": [
    "matriz.shape"
   ]
  },
  {
   "cell_type": "markdown",
   "id": "27a487e1",
   "metadata": {},
   "source": [
    "Tipo de dados:"
   ]
  },
  {
   "cell_type": "code",
   "execution_count": 22,
   "id": "e2d4ea5d",
   "metadata": {},
   "outputs": [
    {
     "data": {
      "text/plain": [
       "dtype('int32')"
      ]
     },
     "execution_count": 22,
     "metadata": {},
     "output_type": "execute_result"
    }
   ],
   "source": [
    "matriz.dtype"
   ]
  },
  {
   "cell_type": "code",
   "execution_count": 23,
   "id": "437f2c82",
   "metadata": {},
   "outputs": [
    {
     "data": {
      "text/plain": [
       "numpy.ndarray"
      ]
     },
     "execution_count": 23,
     "metadata": {},
     "output_type": "execute_result"
    }
   ],
   "source": [
    "type(matriz)"
   ]
  },
  {
   "cell_type": "markdown",
   "id": "811a3f7a",
   "metadata": {},
   "source": [
    "Número de elementos:"
   ]
  },
  {
   "cell_type": "code",
   "execution_count": 24,
   "id": "2eca4cdc",
   "metadata": {},
   "outputs": [
    {
     "data": {
      "text/plain": [
       "9"
      ]
     },
     "execution_count": 24,
     "metadata": {},
     "output_type": "execute_result"
    }
   ],
   "source": [
    "matriz.size"
   ]
  },
  {
   "cell_type": "markdown",
   "id": "446b7da1",
   "metadata": {},
   "source": [
    "Menor elementos da matriz:"
   ]
  },
  {
   "cell_type": "code",
   "execution_count": 26,
   "id": "a4182713",
   "metadata": {},
   "outputs": [
    {
     "data": {
      "text/plain": [
       "1"
      ]
     },
     "execution_count": 26,
     "metadata": {},
     "output_type": "execute_result"
    }
   ],
   "source": [
    "matriz.min()"
   ]
  },
  {
   "cell_type": "code",
   "execution_count": 27,
   "id": "ca3c7982",
   "metadata": {},
   "outputs": [
    {
     "data": {
      "text/plain": [
       "1"
      ]
     },
     "execution_count": 27,
     "metadata": {},
     "output_type": "execute_result"
    }
   ],
   "source": [
    "np.min(matriz)"
   ]
  },
  {
   "cell_type": "markdown",
   "id": "4992fa81",
   "metadata": {},
   "source": [
    "Maior elemento da matriz:"
   ]
  },
  {
   "cell_type": "code",
   "execution_count": 28,
   "id": "3795b6a5",
   "metadata": {},
   "outputs": [
    {
     "data": {
      "text/plain": [
       "9"
      ]
     },
     "execution_count": 28,
     "metadata": {},
     "output_type": "execute_result"
    }
   ],
   "source": [
    "matriz.max()"
   ]
  },
  {
   "cell_type": "code",
   "execution_count": 30,
   "id": "c33af283",
   "metadata": {},
   "outputs": [
    {
     "data": {
      "text/plain": [
       "9"
      ]
     },
     "execution_count": 30,
     "metadata": {},
     "output_type": "execute_result"
    }
   ],
   "source": [
    "np.max(matriz)"
   ]
  },
  {
   "cell_type": "markdown",
   "id": "ce49971d",
   "metadata": {},
   "source": [
    "Maior elemento de cada coluna:"
   ]
  },
  {
   "cell_type": "code",
   "execution_count": 33,
   "id": "c58495a8",
   "metadata": {},
   "outputs": [
    {
     "data": {
      "text/plain": [
       "array([7, 8, 9])"
      ]
     },
     "execution_count": 33,
     "metadata": {},
     "output_type": "execute_result"
    }
   ],
   "source": [
    "np.max(matriz,axis=0)"
   ]
  },
  {
   "cell_type": "markdown",
   "id": "4e4a8110",
   "metadata": {},
   "source": [
    "Maior elemento de cada linha:"
   ]
  },
  {
   "cell_type": "code",
   "execution_count": 34,
   "id": "b091e4a7",
   "metadata": {},
   "outputs": [
    {
     "data": {
      "text/plain": [
       "array([3, 6, 9])"
      ]
     },
     "execution_count": 34,
     "metadata": {},
     "output_type": "execute_result"
    }
   ],
   "source": [
    "np.max(matriz,axis=1)"
   ]
  }
 ],
 "metadata": {
  "kernelspec": {
   "display_name": "Python 3 (ipykernel)",
   "language": "python",
   "name": "python3"
  },
  "language_info": {
   "codemirror_mode": {
    "name": "ipython",
    "version": 3
   },
   "file_extension": ".py",
   "mimetype": "text/x-python",
   "name": "python",
   "nbconvert_exporter": "python",
   "pygments_lexer": "ipython3",
   "version": "3.10.9"
  }
 },
 "nbformat": 4,
 "nbformat_minor": 5
}
